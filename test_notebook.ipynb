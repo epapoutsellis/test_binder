{
 "cells": [
  {
   "cell_type": "code",
   "execution_count": null,
   "metadata": {},
   "outputs": [],
   "source": [
    "#Import libraries\n",
    "import numpy as np\n",
    "import scipy.io as sio\n",
    "import matplotlib.pyplot as plt\n",
    "from cil.framework import AcquisitionGeometry\n",
    "from cil.io import NEXUSDataWriter\n",
    "from cil.io import NEXUSDataReader\n",
    "from cil.plugins.astra.operators import ProjectionOperator\n",
    "from cil.optimisation.algorithms import CGLS, PDHG\n",
    "from cil.optimisation.operators import GradientOperator, BlockOperator, FiniteDifferenceOperator\n",
    "from cil.framework import BlockDataContainer\n",
    "from cil.optimisation.functions import TotalVariation, L2NormSquared, MixedL21Norm, IndicatorBox, BlockFunction"
   ]
  },
  {
   "cell_type": "code",
   "execution_count": 1,
   "metadata": {},
   "outputs": [],
   "source": [
    "!conda env export --from-history -f environment.yml"
   ]
  },
  {
   "cell_type": "code",
   "execution_count": null,
   "metadata": {},
   "outputs": [],
   "source": []
  }
 ],
 "metadata": {
  "kernelspec": {
   "display_name": "Python [conda env:CIL2_submit] *",
   "language": "python",
   "name": "conda-env-CIL2_submit-py"
  },
  "language_info": {
   "codemirror_mode": {
    "name": "ipython",
    "version": 3
   },
   "file_extension": ".py",
   "mimetype": "text/x-python",
   "name": "python",
   "nbconvert_exporter": "python",
   "pygments_lexer": "ipython3",
   "version": "3.7.8"
  }
 },
 "nbformat": 4,
 "nbformat_minor": 4
}
